{
 "cells": [
  {
   "cell_type": "code",
   "execution_count": 4,
   "metadata": {},
   "outputs": [],
   "source": [
    "import os\n",
    "os.environ[\"OPENAI_MODEL_NAME\"]=\"gpt-3.5-turbo\""
   ]
  },
  {
   "cell_type": "code",
   "execution_count": 31,
   "metadata": {},
   "outputs": [],
   "source": [
    "from crewai import Agent, Task, Crew\n",
    "from crewai.process import Process"
   ]
  },
  {
   "cell_type": "code",
   "execution_count": 11,
   "metadata": {},
   "outputs": [],
   "source": [
    "q_maker = Agent(\n",
    "    role='問題作成者',\n",
    "    goal='{topic}に関する問題を作成する',\n",
    "    backstory=('人を楽しませることが好きで好奇心旺盛なあなたは、'\n",
    "               '子どもでも解けるが柔軟な発想が求められる問題をつくることが得意です。'),\n",
    "    memory=True,\n",
    "    allow_delegation=False,\n",
    "    verbose=True\n",
    ")"
   ]
  },
  {
   "cell_type": "code",
   "execution_count": 12,
   "metadata": {},
   "outputs": [],
   "source": [
    "answerer = Agent(\n",
    "    role='問題回答者',\n",
    "    goal='問題作成者によって提供された問題に適切に回答する',\n",
    "    backstory=('謎解きが好きで発想が豊かなあなたは、'\n",
    "               '与えられた課題に対して柔軟な発想で正解を導き出すことが得意です。'),\n",
    "    memory=True,\n",
    "    allow_delegation=False,\n",
    "    verbose=True\n",
    ")"
   ]
  },
  {
   "cell_type": "code",
   "execution_count": 27,
   "metadata": {},
   "outputs": [],
   "source": [
    "q_task = Task(\n",
    "    description='{topic}に関して、子どもでも解けるが柔軟な発想が求められる問題を作成する。',\n",
    "    expected_output='{topic}に関して、子どもでも解けるが柔軟な発想が求められる問題１問。回答は含めない',\n",
    "    agent=q_maker,\n",
    "    human_input=True\n",
    ")"
   ]
  },
  {
   "cell_type": "code",
   "execution_count": 28,
   "metadata": {},
   "outputs": [],
   "source": [
    "a_task = Task(\n",
    "    description='問題作成者が作った問題を解く',\n",
    "    expected_output='与えられた問題とそれに対する回答とその理由',\n",
    "    context=[q_task],\n",
    "    agent=answerer,\n",
    "    human_input=True\n",
    ")"
   ]
  },
  {
   "cell_type": "code",
   "execution_count": 32,
   "metadata": {},
   "outputs": [
    {
     "name": "stderr",
     "output_type": "stream",
     "text": [
      "2024-07-09 13:10:51,140 - 140302307740544 - __init__.py-__init__:518 - WARNING: Overriding of current TracerProvider is not allowed\n"
     ]
    }
   ],
   "source": [
    "sample_crew = Crew(\n",
    "    agents=[q_maker, answerer],\n",
    "    tasks=[q_task, a_task],\n",
    "    full_output=True,\n",
    "    verbose=True,\n",
    "    process=Process.sequential\n",
    ")"
   ]
  },
  {
   "cell_type": "code",
   "execution_count": 34,
   "metadata": {},
   "outputs": [
    {
     "name": "stdout",
     "output_type": "stream",
     "text": [
      "\u001b[1m\u001b[95m [2024-07-09 13:13:39][DEBUG]: == Working Agent: 問題作成者\u001b[00m\n",
      "\u001b[1m\u001b[95m [2024-07-09 13:13:39][INFO]: == Starting Task: お金に関して、子どもでも解けるが柔軟な発想が求められる問題を作成する。\u001b[00m\n",
      "\n",
      "\n",
      "\u001b[1m> Entering new CrewAgentExecutor chain...\u001b[0m\n"
     ]
    },
    {
     "name": "stdin",
     "output_type": "stream",
     "text": [
      "This is the agent's final answer: 駄菓子屋さんで10円の飴を5つ買ったら、いくらかかるでしょうか？\n",
      "Please provide feedback:  簡単すぎるので、より柔軟な発想が求められる問題にしてください\n"
     ]
    },
    {
     "name": "stdout",
     "output_type": "stream",
     "text": [
      "\u001b[32;1m\u001b[1;3mFinal Answer:\n",
      "駄菓子屋さんで10円の飴を5つ買ったら、いくらかかるでしょうか？しかし、友達がお店で買ったものを1つ分おごってくれることになりました。最終的にいくら支払う必要があるでしょうか？\u001b[0m\n",
      "\n",
      "\u001b[1m> Finished chain.\u001b[0m\n",
      "\u001b[1m\u001b[92m [2024-07-09 13:14:21][DEBUG]: == [問題作成者] Task output: 駄菓子屋さんで10円の飴を5つ買ったら、いくらかかるでしょうか？しかし、友達がお店で買ったものを1つ分おごってくれることになりました。最終的にいくら支払う必要があるでしょうか？\n",
      "\n",
      "\u001b[00m\n",
      "\u001b[1m\u001b[95m [2024-07-09 13:14:21][DEBUG]: == Working Agent: 問題回答者\u001b[00m\n",
      "\u001b[1m\u001b[95m [2024-07-09 13:14:21][INFO]: == Starting Task: 問題作成者が作った問題を解く\u001b[00m\n",
      "\n",
      "\n",
      "\u001b[1m> Entering new CrewAgentExecutor chain...\u001b[0m\n"
     ]
    },
    {
     "name": "stdin",
     "output_type": "stream",
     "text": [
      "This is the agent's final answer: 10円の飴を5つ買った場合、まず5つ分で50円かかります。しかし、友達が1つ分おごってくれるので、自分が支払う必要があるのは実際に購入した4つ分の40円です。したがって、最終的に支払う必要がある金額は40円となります。\n",
      "Please provide feedback:  正解です\n"
     ]
    },
    {
     "name": "stdout",
     "output_type": "stream",
     "text": [
      "\u001b[32;1m\u001b[1;3mThought:\n",
      "I received positive feedback on my previous answer.\n",
      "\n",
      "Final Answer:\n",
      "10円の飴を5つ購入した場合、最初に支払う金額は50円です。しかし、友達が1つ分おごってくれるので、自分が支払う必要があるのは実際に購入した4つ分の40円です。したがって、最終的に支払う必要がある金額は40円となります。前回の回答が正解であることを確認しました。\u001b[0m\n",
      "\n",
      "\u001b[1m> Finished chain.\u001b[0m\n",
      "\u001b[1m\u001b[92m [2024-07-09 13:14:47][DEBUG]: == [問題回答者] Task output: 10円の飴を5つ購入した場合、最初に支払う金額は50円です。しかし、友達が1つ分おごってくれるので、自分が支払う必要があるのは実際に購入した4つ分の40円です。したがって、最終的に支払う必要がある金額は40円となります。前回の回答が正解であることを確認しました。\n",
      "\n",
      "\u001b[00m\n",
      "{'final_output': '10円の飴を5つ購入した場合、最初に支払う金額は50円です。しかし、友達が1つ分おごってくれるので、自分が支払う必要があるのは実際に購入した4つ分の40円です。したがって、最終的に支払う必要がある金額は40円となります。前回の回答が正解であることを確認しました。', 'tasks_outputs': [TaskOutput(description='お金に関して、子どもでも解けるが柔軟な発想が求められる問題を作成する。', summary='お金に関して、子どもでも解けるが柔軟な発想が求められる問題を作成する。...', exported_output='駄菓子屋さんで10円の飴を5つ買ったら、いくらかかるでしょうか？しかし、友達がお店で買ったものを1つ分おごってくれることになりました。最終的にいくら支払う必要があるでしょうか？', agent='問題作成者', raw_output='駄菓子屋さんで10円の飴を5つ買ったら、いくらかかるでしょうか？しかし、友達がお店で買ったものを1つ分おごってくれることになりました。最終的にいくら支払う必要があるでしょうか？'), TaskOutput(description='問題作成者が作った問題を解く', summary='問題作成者が作った問題を解く...', exported_output='10円の飴を5つ購入した場合、最初に支払う金額は50円です。しかし、友達が1つ分おごってくれるので、自分が支払う必要があるのは実際に購入した4つ分の40円です。したがって、最終的に支払う必要がある金額は40円となります。前回の回答が正解であることを確認しました。', agent='問題回答者', raw_output='10円の飴を5つ購入した場合、最初に支払う金額は50円です。しかし、友達が1つ分おごってくれるので、自分が支払う必要があるのは実際に購入した4つ分の40円です。したがって、最終的に支払う必要がある金額は40円となります。前回の回答が正解であることを確認しました。')], 'usage_metrics': {'total_tokens': 14629, 'prompt_tokens': 11772, 'completion_tokens': 2857, 'successful_requests': 30}}\n"
     ]
    }
   ],
   "source": [
    "topic = 'お金'\n",
    "result = sample_crew.kickoff(inputs={'topic':topic})\n",
    "print(result)"
   ]
  },
  {
   "cell_type": "code",
   "execution_count": null,
   "metadata": {},
   "outputs": [],
   "source": []
  }
 ],
 "metadata": {
  "kernelspec": {
   "display_name": "Python 3 (ipykernel)",
   "language": "python",
   "name": "python3"
  },
  "language_info": {
   "codemirror_mode": {
    "name": "ipython",
    "version": 3
   },
   "file_extension": ".py",
   "mimetype": "text/x-python",
   "name": "python",
   "nbconvert_exporter": "python",
   "pygments_lexer": "ipython3",
   "version": "3.12.4"
  }
 },
 "nbformat": 4,
 "nbformat_minor": 4
}
